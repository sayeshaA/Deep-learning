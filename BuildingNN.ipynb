{
 "cells": [
  {
   "cell_type": "markdown",
   "metadata": {},
   "source": [
    "## Building Neural Networks"
   ]
  },
  {
   "cell_type": "code",
   "execution_count": 8,
   "metadata": {},
   "outputs": [],
   "source": [
    "from keras.utils import to_categorical\n",
    "from keras import models\n",
    "from keras import layers"
   ]
  },
  {
   "cell_type": "code",
   "execution_count": 11,
   "metadata": {},
   "outputs": [
    {
     "name": "stdout",
     "output_type": "stream",
     "text": [
      "_________________________________________________________________\n",
      "Layer (type)                 Output Shape              Param #   \n",
      "=================================================================\n",
      "dense_5 (Dense)              (None, 80)                8080      \n",
      "_________________________________________________________________\n",
      "dense_6 (Dense)              (None, 50)                4050      \n",
      "_________________________________________________________________\n",
      "dense_7 (Dense)              (None, 80)                4080      \n",
      "_________________________________________________________________\n",
      "dense_8 (Dense)              (None, 100)               8100      \n",
      "=================================================================\n",
      "Total params: 24,310\n",
      "Trainable params: 24,310\n",
      "Non-trainable params: 0\n",
      "_________________________________________________________________\n"
     ]
    }
   ],
   "source": [
    "#Input layer\n",
    "model = models.Sequential()\n",
    "model.add(layers.Dense(80,activation = \"relu\",input_shape=(100,)))\n",
    "model.add(layers.Dense(50,activation= \"relu\"))\n",
    "model.add(layers.Dense(80,activation=\"relu\"))\n",
    "model.add(layers.Dense(100,activation=\"relu\"))\n",
    "\n",
    "model.summary()"
   ]
  },
  {
   "cell_type": "code",
   "execution_count": 14,
   "metadata": {},
   "outputs": [
    {
     "name": "stdout",
     "output_type": "stream",
     "text": [
      "_________________________________________________________________\n",
      "Layer (type)                 Output Shape              Param #   \n",
      "=================================================================\n",
      "input_2 (InputLayer)         (None, 100)               0         \n",
      "_________________________________________________________________\n",
      "dense_13 (Dense)             (None, 80)                8080      \n",
      "_________________________________________________________________\n",
      "dense_14 (Dense)             (None, 50)                4050      \n",
      "_________________________________________________________________\n",
      "dense_15 (Dense)             (None, 80)                4080      \n",
      "_________________________________________________________________\n",
      "dense_16 (Dense)             (None, 100)               8100      \n",
      "=================================================================\n",
      "Total params: 24,310\n",
      "Trainable params: 24,310\n",
      "Non-trainable params: 0\n",
      "_________________________________________________________________\n"
     ]
    }
   ],
   "source": [
    "from keras.layers import Input,Dense\n",
    "from keras.models import Model\n",
    "#functional API model\n",
    "inputs = Input(shape=(100,))\n",
    "x = Dense(80,activation=\"relu\")(inputs)\n",
    "x = Dense(50,activation=\"relu\")(x)\n",
    "x = Dense(80,activation=\"relu\")(x)\n",
    "pred = Dense(100,activation=\"relu\")(x)\n",
    "\n",
    "model1= models.Model(inputs=inputs,outputs = pred)\n",
    "model1.summary()"
   ]
  },
  {
   "cell_type": "code",
   "execution_count": 16,
   "metadata": {},
   "outputs": [
    {
     "name": "stdout",
     "output_type": "stream",
     "text": [
      "__________________________________________________________________________________________________\n",
      "Layer (type)                    Output Shape         Param #     Connected to                     \n",
      "==================================================================================================\n",
      "input_4 (InputLayer)            (None, 100)          0                                            \n",
      "__________________________________________________________________________________________________\n",
      "dense_19 (Dense)                (None, 80)           8080        input_4[0][0]                    \n",
      "__________________________________________________________________________________________________\n",
      "dense_20 (Dense)                (None, 50)           4050        dense_19[0][0]                   \n",
      "__________________________________________________________________________________________________\n",
      "concatenate_1 (Concatenate)     (None, 130)          0           dense_19[0][0]                   \n",
      "                                                                 dense_20[0][0]                   \n",
      "__________________________________________________________________________________________________\n",
      "dense_21 (Dense)                (None, 80)           10480       concatenate_1[0][0]              \n",
      "__________________________________________________________________________________________________\n",
      "dense_22 (Dense)                (None, 100)          8100        dense_21[0][0]                   \n",
      "==================================================================================================\n",
      "Total params: 30,710\n",
      "Trainable params: 30,710\n",
      "Non-trainable params: 0\n",
      "__________________________________________________________________________________________________\n"
     ]
    }
   ],
   "source": [
    "from keras.layers import Concatenate\n",
    "inputs = Input(shape=(100,))\n",
    "x_1 = Dense(80,activation=\"relu\")(inputs)\n",
    "x_2 = Dense(50,activation=\"relu\")(x_1)\n",
    "skipped = Concatenate()([x_1,x_2])\n",
    "x = Dense(80,activation=\"relu\")(skipped)\n",
    "pred = Dense(100,activation=\"relu\")(x)\n",
    "\n",
    "model1= models.Model(inputs=inputs,outputs = pred)\n",
    "model1.summary()"
   ]
  },
  {
   "cell_type": "markdown",
   "metadata": {},
   "source": [
    "## Building CNN"
   ]
  },
  {
   "cell_type": "code",
   "execution_count": 33,
   "metadata": {},
   "outputs": [
    {
     "name": "stdout",
     "output_type": "stream",
     "text": [
      "_________________________________________________________________\n",
      "Layer (type)                 Output Shape              Param #   \n",
      "=================================================================\n",
      "conv2d_30 (Conv2D)           (None, 200, 200, 128)     3584      \n",
      "_________________________________________________________________\n",
      "max_pooling2d_24 (MaxPooling (None, 100, 100, 128)     0         \n",
      "_________________________________________________________________\n",
      "conv2d_31 (Conv2D)           (None, 100, 100, 256)     536871168 \n",
      "_________________________________________________________________\n",
      "max_pooling2d_25 (MaxPooling (None, 50, 50, 256)       0         \n",
      "_________________________________________________________________\n",
      "up_sampling2d_7 (UpSampling2 (None, 100, 100, 256)     0         \n",
      "_________________________________________________________________\n",
      "conv2d_32 (Conv2D)           (None, 100, 100, 128)     -214748352\n",
      "_________________________________________________________________\n",
      "up_sampling2d_8 (UpSampling2 (None, 200, 200, 128)     0         \n",
      "_________________________________________________________________\n",
      "conv2d_33 (Conv2D)           (None, 200, 200, 64)      134217792 \n",
      "_________________________________________________________________\n",
      "conv2d_34 (Conv2D)           (None, 200, 200, 3)       786435    \n",
      "=================================================================\n",
      "Total params: -1,475,604,541\n",
      "Trainable params: -1,475,604,541\n",
      "Non-trainable params: 0\n",
      "_________________________________________________________________\n"
     ]
    }
   ],
   "source": [
    "from keras.models import Sequential\n",
    "from keras.layers import Dense,Conv2D,Flatten,MaxPooling2D,Conv2DTranspose,UpSampling2D\n",
    "model = Sequential()\n",
    "model.add(Conv2D(128,kernel_size=(3,3),activation=\"relu\",padding=\"same\",input_shape=(200,200,3)))\n",
    "model.add(MaxPooling2D(pool_size=(2,2)))\n",
    "model.add(Conv2D(256,kernel_size=(128,128),activation=\"relu\",padding=\"same\",input_shape=(100,100,128)))\n",
    "model.add(MaxPooling2D(pool_size=(2,2)))\n",
    "#model.add(Conv2DTranspose(256,kernel_size=(256,256),padding=\"same\",activation=\"relu\")         \n",
    "model.add(UpSampling2D(size=(2,2)))\n",
    "model.add(Conv2D(128,kernel_size=(256,256),activation=\"relu\",padding=\"same\",input_shape=(100,100,256)))\n",
    "model.add(UpSampling2D(size=(2,2)))\n",
    "model.add(Conv2D(64,kernel_size=(128,128),activation=\"relu\",padding=\"same\",input_shape=(200,200,128)))\n",
    "model.add(Conv2D(3,kernel_size=(64,64),activation=\"relu\",padding=\"same\",input_shape=(200,200,64)))\n",
    "\n",
    "\n",
    "model.summary()"
   ]
  },
  {
   "cell_type": "code",
   "execution_count": 47,
   "metadata": {},
   "outputs": [
    {
     "name": "stdout",
     "output_type": "stream",
     "text": [
      "_________________________________________________________________\n",
      "Layer (type)                 Output Shape              Param #   \n",
      "=================================================================\n",
      "conv2d_56 (Conv2D)           (None, 200, 200, 128)     3584      \n",
      "_________________________________________________________________\n",
      "max_pooling2d_44 (MaxPooling (None, 100, 100, 128)     0         \n",
      "_________________________________________________________________\n",
      "conv2d_57 (Conv2D)           (None, 100, 100, 256)     536871168 \n",
      "_________________________________________________________________\n",
      "max_pooling2d_45 (MaxPooling (None, 50, 50, 256)       0         \n",
      "_________________________________________________________________\n",
      "conv2d_transpose_15 (Conv2DT (None, 100, 100, 256)     170459392 \n",
      "_________________________________________________________________\n",
      "conv2d_transpose_16 (Conv2DT (None, 100, 100, 128)     32896     \n",
      "_________________________________________________________________\n",
      "conv2d_transpose_17 (Conv2DT (None, 200, 200, 128)     167133312 \n",
      "_________________________________________________________________\n",
      "conv2d_transpose_18 (Conv2DT (None, 200, 200, 64)      8256      \n",
      "_________________________________________________________________\n",
      "conv2d_transpose_19 (Conv2DT (None, 200, 200, 3)       195       \n",
      "=================================================================\n",
      "Total params: 874,508,803\n",
      "Trainable params: 874,508,803\n",
      "Non-trainable params: 0\n",
      "_________________________________________________________________\n"
     ]
    }
   ],
   "source": [
    "from keras.models import Sequential\n",
    "from keras.layers import Dense,Conv2D,Flatten,MaxPooling2D,Conv2DTranspose,UpSampling2D\n",
    "model = Sequential()\n",
    "model.add(Conv2D(128,kernel_size=(3,3),activation=\"relu\",padding=\"same\",input_shape=(200,200,3)))\n",
    "model.add(MaxPooling2D(pool_size=(2,2)))\n",
    "model.add(Conv2D(256,kernel_size=(128,128),activation=\"relu\",padding=\"same\",input_shape=(100,100,128)))\n",
    "model.add(MaxPooling2D(pool_size=(2,2)))\n",
    "# Conv2Dtranspose stride =1 \n",
    "#formula :  Padding==Same: H = H1 * stride\n",
    "# Padding==Valid: H = (H1-1) * stride + HF\n",
    "# where, H = output size, H1 = input size, HF = height of filter\n",
    "model.add(Conv2DTranspose(256,kernel_size=(51,51),activation=\"relu\"))\n",
    "model.add(Conv2DTranspose(128,kernel_size=(1,1),activation=\"relu\"))\n",
    "model.add(Conv2DTranspose(128,kernel_size=(101,101),activation=\"relu\"))\n",
    "model.add(Conv2DTranspose(64,kernel_size=(1,1),activation=\"relu\"))\n",
    "model.add(Conv2DTranspose(3,kernel_size=(1,1),activation=\"relu\"))\n",
    "\n",
    "model.summary()"
   ]
  },
  {
   "cell_type": "code",
   "execution_count": 34,
   "metadata": {},
   "outputs": [
    {
     "name": "stdout",
     "output_type": "stream",
     "text": [
      "__________________________________________________________________________________________________\n",
      "Layer (type)                    Output Shape         Param #     Connected to                     \n",
      "==================================================================================================\n",
      "input_5 (InputLayer)            (None, 200, 200, 2)  0                                            \n",
      "__________________________________________________________________________________________________\n",
      "conv2d_35 (Conv2D)              (None, 200, 200, 128 2432        input_5[0][0]                    \n",
      "__________________________________________________________________________________________________\n",
      "max_pooling2d_26 (MaxPooling2D) (None, 100, 100, 128 0           conv2d_35[0][0]                  \n",
      "__________________________________________________________________________________________________\n",
      "conv2d_36 (Conv2D)              (None, 100, 100, 256 536871168   max_pooling2d_26[0][0]           \n",
      "__________________________________________________________________________________________________\n",
      "max_pooling2d_27 (MaxPooling2D) (None, 50, 50, 256)  0           conv2d_36[0][0]                  \n",
      "__________________________________________________________________________________________________\n",
      "up_sampling2d_9 (UpSampling2D)  (None, 100, 100, 256 0           max_pooling2d_27[0][0]           \n",
      "__________________________________________________________________________________________________\n",
      "concatenate_2 (Concatenate)     (None, 100, 100, 384 0           max_pooling2d_26[0][0]           \n",
      "                                                                 up_sampling2d_9[0][0]            \n",
      "__________________________________________________________________________________________________\n",
      "conv2d_37 (Conv2D)              (None, 100, 100, 128 -1073741696 concatenate_2[0][0]              \n",
      "__________________________________________________________________________________________________\n",
      "up_sampling2d_10 (UpSampling2D) (None, 200, 200, 128 0           conv2d_37[0][0]                  \n",
      "__________________________________________________________________________________________________\n",
      "conv2d_38 (Conv2D)              (None, 200, 200, 64) 134217792   up_sampling2d_10[0][0]           \n",
      "__________________________________________________________________________________________________\n",
      "conv2d_39 (Conv2D)              (None, 200, 200, 3)  786435      conv2d_38[0][0]                  \n",
      "==================================================================================================\n",
      "Total params: -401,863,869\n",
      "Trainable params: -401,863,869\n",
      "Non-trainable params: 0\n",
      "__________________________________________________________________________________________________\n"
     ]
    }
   ],
   "source": [
    "from keras.layers import Concatenate\n",
    "inputs = Input(shape=(200,200,2))\n",
    "x = Conv2D(128,kernel_size=(3,3),activation=\"relu\",padding=\"same\")(inputs)\n",
    "x_1 = MaxPooling2D(pool_size=(2,2))(x)\n",
    "x_2 = Conv2D(256,kernel_size=(128,128),activation=\"relu\",padding=\"same\",input_shape=(100,100,128))(x_1)\n",
    "x_2 = MaxPooling2D(pool_size=(2,2))(x_2)\n",
    "#model.add(Conv2DTranspose(256,kernel_size=(256,256),padding=\"valid\",activation=\"relu\",input_shape=(50,50,256)))\n",
    "x_3 = UpSampling2D(size=(2,2))(x_2)\n",
    "skip = Concatenate()([x_1,x_3])\n",
    "x_3 = Conv2D(128,kernel_size=(256,256),activation=\"relu\",padding=\"same\",input_shape=(100,100,256))(skip)\n",
    "x_4 = UpSampling2D(size=(2,2))(x_3)\n",
    "x_4 = Conv2D(64,kernel_size=(128,128),activation=\"relu\",padding=\"same\",input_shape=(200,200,128))(x_4)\n",
    "pred = Conv2D(3,kernel_size=(64,64),activation=\"relu\",padding=\"same\",input_shape=(200,200,64))(x_4)\n",
    "\n",
    "model1= models.Model(inputs=inputs,outputs = pred)\n",
    "model1.summary()\n"
   ]
  },
  {
   "cell_type": "code",
   "execution_count": null,
   "metadata": {},
   "outputs": [],
   "source": []
  },
  {
   "cell_type": "code",
   "execution_count": null,
   "metadata": {},
   "outputs": [],
   "source": []
  }
 ],
 "metadata": {
  "kernelspec": {
   "display_name": "Python 3",
   "language": "python",
   "name": "python3"
  },
  "language_info": {
   "codemirror_mode": {
    "name": "ipython",
    "version": 3
   },
   "file_extension": ".py",
   "mimetype": "text/x-python",
   "name": "python",
   "nbconvert_exporter": "python",
   "pygments_lexer": "ipython3",
   "version": "3.6.7"
  }
 },
 "nbformat": 4,
 "nbformat_minor": 2
}
