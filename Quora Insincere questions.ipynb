{
 "cells": [
  {
   "cell_type": "markdown",
   "metadata": {},
   "source": [
    "### Problem Statement\n",
    "Key challenge is to weed out insincere questions -- those founded upon false premises, \n",
    "or that intend to make a statement rather than look for helpful answers.\n",
    "\n",
    "#### Rough code "
   ]
  },
  {
   "cell_type": "code",
   "execution_count": 28,
   "metadata": {},
   "outputs": [],
   "source": [
    "import pandas as pd\n",
    "text = pd.read_csv(r\"C:\\Users\\Sayesha\\Desktop\\Machine Learning\\Projects_files\\Quora Insincere Questions Classifiaction\\train.csv\")\n",
    "import nltk"
   ]
  },
  {
   "cell_type": "code",
   "execution_count": 29,
   "metadata": {},
   "outputs": [
    {
     "data": {
      "text/html": [
       "<div>\n",
       "<style scoped>\n",
       "    .dataframe tbody tr th:only-of-type {\n",
       "        vertical-align: middle;\n",
       "    }\n",
       "\n",
       "    .dataframe tbody tr th {\n",
       "        vertical-align: top;\n",
       "    }\n",
       "\n",
       "    .dataframe thead th {\n",
       "        text-align: right;\n",
       "    }\n",
       "</style>\n",
       "<table border=\"1\" class=\"dataframe\">\n",
       "  <thead>\n",
       "    <tr style=\"text-align: right;\">\n",
       "      <th></th>\n",
       "      <th>qid</th>\n",
       "      <th>question_text</th>\n",
       "      <th>target</th>\n",
       "    </tr>\n",
       "  </thead>\n",
       "  <tbody>\n",
       "    <tr>\n",
       "      <th>0</th>\n",
       "      <td>00002165364db923c7e6</td>\n",
       "      <td>How did Quebec nationalists see their province...</td>\n",
       "      <td>0</td>\n",
       "    </tr>\n",
       "    <tr>\n",
       "      <th>1</th>\n",
       "      <td>000032939017120e6e44</td>\n",
       "      <td>Do you have an adopted dog, how would you enco...</td>\n",
       "      <td>0</td>\n",
       "    </tr>\n",
       "    <tr>\n",
       "      <th>2</th>\n",
       "      <td>0000412ca6e4628ce2cf</td>\n",
       "      <td>Why does velocity affect time? Does velocity a...</td>\n",
       "      <td>0</td>\n",
       "    </tr>\n",
       "    <tr>\n",
       "      <th>3</th>\n",
       "      <td>000042bf85aa498cd78e</td>\n",
       "      <td>How did Otto von Guericke used the Magdeburg h...</td>\n",
       "      <td>0</td>\n",
       "    </tr>\n",
       "    <tr>\n",
       "      <th>4</th>\n",
       "      <td>0000455dfa3e01eae3af</td>\n",
       "      <td>Can I convert montra helicon D to a mountain b...</td>\n",
       "      <td>0</td>\n",
       "    </tr>\n",
       "  </tbody>\n",
       "</table>\n",
       "</div>"
      ],
      "text/plain": [
       "                    qid                                      question_text  \\\n",
       "0  00002165364db923c7e6  How did Quebec nationalists see their province...   \n",
       "1  000032939017120e6e44  Do you have an adopted dog, how would you enco...   \n",
       "2  0000412ca6e4628ce2cf  Why does velocity affect time? Does velocity a...   \n",
       "3  000042bf85aa498cd78e  How did Otto von Guericke used the Magdeburg h...   \n",
       "4  0000455dfa3e01eae3af  Can I convert montra helicon D to a mountain b...   \n",
       "\n",
       "   target  \n",
       "0       0  \n",
       "1       0  \n",
       "2       0  \n",
       "3       0  \n",
       "4       0  "
      ]
     },
     "execution_count": 29,
     "metadata": {},
     "output_type": "execute_result"
    }
   ],
   "source": [
    "text.head()"
   ]
  },
  {
   "cell_type": "markdown",
   "metadata": {},
   "source": [
    "#### Cleaning the data"
   ]
  },
  {
   "cell_type": "code",
   "execution_count": 30,
   "metadata": {},
   "outputs": [
    {
     "name": "stdout",
     "output_type": "stream",
     "text": [
      "qid              object\n",
      "question_text    object\n",
      "target            int64\n",
      "dtype: object\n",
      "\n",
      "Number of nulls :0\n"
     ]
    }
   ],
   "source": [
    "def remove_characters(df,text1):\n",
    "    df[text1] = df[text1].str.replace(r\"http\\S+\", \"\")\n",
    "    df[text1] = df[text1].str.replace(r\"http\", \"\")\n",
    "    df[text1] = df[text1].str.replace(r\"@\\S+\", \"\")\n",
    "    df[text1] = df[text1].str.replace(r\"[^A-Za-z0-9(),!?@\\'\\`\\\"\\_\\n]\",\" \")\n",
    "    df[text1] = df[text1].str.replace(r\"@\", \"at\")\n",
    "    df[text1] = df[text1].str.lower()\n",
    "    return df\n",
    "\n",
    "text_n = remove_characters(text,\"question_text\")\n",
    "text_n.head()\n",
    "print(text.dtypes)\n",
    "print(\"\\nNumber of nulls :\" + str(text[\"target\"].isna().sum()))"
   ]
  },
  {
   "cell_type": "code",
   "execution_count": 31,
   "metadata": {},
   "outputs": [
    {
     "data": {
      "image/png": "[encoded data removed]",
      "text/plain": [
       "<Figure size 432x288 with 1 Axes>"
      ]
     },
     "metadata": {},
     "output_type": "display_data"
    }
   ],
   "source": [
    "import matplotlib.pyplot as plt\n",
    "import pandas as pd\n",
    "labels = text[\"target\"].value_counts().index\n",
    "fig1, ax1 = plt.subplots()\n",
    "ax1.pie(text[\"target\"].value_counts().values, labels=labels, autopct='%1.1f%%',\n",
    "        shadow=True, startangle=90)\n",
    "ax1.axis('equal')\n",
    "plt.show()"
   ]
  },
  {
   "cell_type": "markdown",
   "metadata": {},
   "source": [
    "The corpus is _imbalanced_. There are very few examples of insincere questions."
   ]
  },
  {
   "cell_type": "markdown",
   "metadata": {},
   "source": [
    "### Tokenizaton\n",
    "Converting sentences to list of separate words."
   ]
  },
  {
   "cell_type": "code",
   "execution_count": 32,
   "metadata": {},
   "outputs": [
    {
     "data": {
      "text/html": [
       "<div>\n",
       "<style scoped>\n",
       "    .dataframe tbody tr th:only-of-type {\n",
       "        vertical-align: middle;\n",
       "    }\n",
       "\n",
       "    .dataframe tbody tr th {\n",
       "        vertical-align: top;\n",
       "    }\n",
       "\n",
       "    .dataframe thead th {\n",
       "        text-align: right;\n",
       "    }\n",
       "</style>\n",
       "<table border=\"1\" class=\"dataframe\">\n",
       "  <thead>\n",
       "    <tr style=\"text-align: right;\">\n",
       "      <th></th>\n",
       "      <th>qid</th>\n",
       "      <th>question_text</th>\n",
       "      <th>target</th>\n",
       "      <th>tokens</th>\n",
       "    </tr>\n",
       "  </thead>\n",
       "  <tbody>\n",
       "    <tr>\n",
       "      <th>0</th>\n",
       "      <td>00002165364db923c7e6</td>\n",
       "      <td>how did quebec nationalists see their province...</td>\n",
       "      <td>0</td>\n",
       "      <td>[how, did, quebec, nationalists, see, their, p...</td>\n",
       "    </tr>\n",
       "    <tr>\n",
       "      <th>1</th>\n",
       "      <td>000032939017120e6e44</td>\n",
       "      <td>do you have an adopted dog, how would you enco...</td>\n",
       "      <td>0</td>\n",
       "      <td>[do, you, have, an, adopted, dog, how, would, ...</td>\n",
       "    </tr>\n",
       "    <tr>\n",
       "      <th>2</th>\n",
       "      <td>0000412ca6e4628ce2cf</td>\n",
       "      <td>why does velocity affect time? does velocity a...</td>\n",
       "      <td>0</td>\n",
       "      <td>[why, does, velocity, affect, time, does, velo...</td>\n",
       "    </tr>\n",
       "    <tr>\n",
       "      <th>3</th>\n",
       "      <td>000042bf85aa498cd78e</td>\n",
       "      <td>how did otto von guericke used the magdeburg h...</td>\n",
       "      <td>0</td>\n",
       "      <td>[how, did, otto, von, guericke, used, the, mag...</td>\n",
       "    </tr>\n",
       "    <tr>\n",
       "      <th>4</th>\n",
       "      <td>0000455dfa3e01eae3af</td>\n",
       "      <td>can i convert montra helicon d to a mountain b...</td>\n",
       "      <td>0</td>\n",
       "      <td>[can, i, convert, montra, helicon, d, to, a, m...</td>\n",
       "    </tr>\n",
       "  </tbody>\n",
       "</table>\n",
       "</div>"
      ],
      "text/plain": [
       "                    qid                                      question_text  \\\n",
       "0  00002165364db923c7e6  how did quebec nationalists see their province...   \n",
       "1  000032939017120e6e44  do you have an adopted dog, how would you enco...   \n",
       "2  0000412ca6e4628ce2cf  why does velocity affect time? does velocity a...   \n",
       "3  000042bf85aa498cd78e  how did otto von guericke used the magdeburg h...   \n",
       "4  0000455dfa3e01eae3af  can i convert montra helicon d to a mountain b...   \n",
       "\n",
       "   target                                             tokens  \n",
       "0       0  [how, did, quebec, nationalists, see, their, p...  \n",
       "1       0  [do, you, have, an, adopted, dog, how, would, ...  \n",
       "2       0  [why, does, velocity, affect, time, does, velo...  \n",
       "3       0  [how, did, otto, von, guericke, used, the, mag...  \n",
       "4       0  [can, i, convert, montra, helicon, d, to, a, m...  "
      ]
     },
     "execution_count": 32,
     "metadata": {},
     "output_type": "execute_result"
    }
   ],
   "source": [
    "from nltk.tokenize import RegexpTokenizer\n",
    "\n",
    "tokenizer = RegexpTokenizer(r'\\w+')\n",
    "\n",
    "text_n[\"tokens\"] = text_n[\"question_text\"].apply(tokenizer.tokenize)\n",
    "text_n.head()"
   ]
  },
  {
   "cell_type": "code",
   "execution_count": 33,
   "metadata": {},
   "outputs": [
    {
     "name": "stdout",
     "output_type": "stream",
     "text": [
      "Number of unique words47\n",
      "                    qid                                      question_text  \\\n",
      "0  00002165364db923c7e6  how did quebec nationalists see their province...   \n",
      "1  000032939017120e6e44  do you have an adopted dog, how would you enco...   \n",
      "2  0000412ca6e4628ce2cf  why does velocity affect time? does velocity a...   \n",
      "3  000042bf85aa498cd78e  how did otto von guericke used the magdeburg h...   \n",
      "4  0000455dfa3e01eae3af  can i convert montra helicon d to a mountain b...   \n",
      "\n",
      "   target                                             tokens  token_len  \n",
      "0       0  [how, did, quebec, nationalists, see, their, p...         72  \n",
      "1       0  [do, you, have, an, adopted, dog, how, would, ...         81  \n",
      "2       0  [why, does, velocity, affect, time, does, velo...         67  \n",
      "3       0  [how, did, otto, von, guericke, used, the, mag...         57  \n",
      "4       0  [can, i, convert, montra, helicon, d, to, a, m...         77  \n"
     ]
    }
   ],
   "source": [
    "#repeated\n",
    "all_words = [w for i in text_n[\"question_text\"] for w in i ]\n",
    "unique_words = set(all_words)\n",
    "print(\"Number of unique words\"+str(len(unique_words)))\n",
    "\n",
    "sentence_len = [len(i) for i in text_n[\"question_text\"]]\n",
    "text_n[\"token_len\"] = sentence_len\n",
    "print(text_n.head())"
   ]
  },
  {
   "cell_type": "code",
   "execution_count": 34,
   "metadata": {},
   "outputs": [
    {
     "data": {
      "image/png": "[encoded data removed]",
      "text/plain": [
       "<Figure size 720x360 with 1 Axes>"
      ]
     },
     "metadata": {
      "needs_background": "light"
     },
     "output_type": "display_data"
    },
    {
     "data": {
      "image/png": "[encoded data removed]",
      "text/plain": [
       "<Figure size 432x216 with 2 Axes>"
      ]
     },
     "metadata": {
      "needs_background": "light"
     },
     "output_type": "display_data"
    }
   ],
   "source": [
    "import matplotlib.pyplot as plt\n",
    "import numpy as np\n",
    "\n",
    "plt.figure(figsize=(10,5))\n",
    "plt.hist(sentence_len,bins= 50)\n",
    "plt.xlim(min(sentence_len),max(sentence_len))\n",
    "plt.xlabel('length of sentence')\n",
    "plt.ylabel('frequency')\n",
    "plt.show()\n",
    "\n",
    "import seaborn as sns\n",
    "g = sns.FacetGrid(text_n,col = \"target\")\n",
    "g = g.map(plt.hist,\"token_len\")\n",
    "plt.show()"
   ]
  },
  {
   "cell_type": "markdown",
   "metadata": {},
   "source": [
    "## Embedding\n",
    "* Bag of Words Count \n",
    "Associates an index to each word in our vocabulary, and embeds each sentence as a list of 0s, with a 1 at each index corresponding to a word present in the sentence."
   ]
  },
  {
   "cell_type": "code",
   "execution_count": 35,
   "metadata": {},
   "outputs": [],
   "source": [
    "#from sklearn.model_selection import  "
   ]
  },
  {
   "cell_type": "markdown",
   "metadata": {},
   "source": [
    "* tokenization\n",
    "* stop words\n",
    "* lemmatization\n",
    "* padding\n",
    "* vectorize\n",
    "* split-stratified shuffle\n",
    "* oversampling"
   ]
  },
  {
   "cell_type": "markdown",
   "metadata": {},
   "source": [
    "### Word Embedding\n",
    "Vectorization of words using the TF IDF "
   ]
  }
 ],
 "metadata": {
  "kernelspec": {
   "display_name": "Python 3",
   "language": "python",
   "name": "python3"
  },
  "language_info": {
   "codemirror_mode": {
    "name": "ipython",
    "version": 3
   },
   "file_extension": ".py",
   "mimetype": "text/x-python",
   "name": "python",
   "nbconvert_exporter": "python",
   "pygments_lexer": "ipython3",
   "version": "3.6.7"
  }
 },
 "nbformat": 4,
 "nbformat_minor": 2
}
