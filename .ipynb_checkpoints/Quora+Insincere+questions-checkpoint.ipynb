{
 "cells": [
  {
   "cell_type": "markdown",
   "metadata": {},
   "source": [
    "### Problem Statement\n",
    "Key challenge is to weed out insincere questions -- those founded upon false premises, \n",
    "or that intend to make a statement rather than look for helpful answers.\n",
    "\n",
    "#### Rough code "
   ]
  },
  {
   "cell_type": "code",
   "execution_count": 1,
   "metadata": {},
   "outputs": [
    {
     "name": "stdout",
     "output_type": "stream",
     "text": [
      "(1306122, 3)\n"
     ]
    }
   ],
   "source": [
    "import pandas as pd\n",
    "import numpy as np\n",
    "text = pd.read_csv(r\"train_quora.csv\")\n",
    "import nltk\n",
    "print(text.shape)"
   ]
  },
  {
   "cell_type": "code",
   "execution_count": 2,
   "metadata": {},
   "outputs": [
    {
     "data": {
      "text/html": [
       "<div>\n",
       "<style scoped>\n",
       "    .dataframe tbody tr th:only-of-type {\n",
       "        vertical-align: middle;\n",
       "    }\n",
       "\n",
       "    .dataframe tbody tr th {\n",
       "        vertical-align: top;\n",
       "    }\n",
       "\n",
       "    .dataframe thead th {\n",
       "        text-align: right;\n",
       "    }\n",
       "</style>\n",
       "<table border=\"1\" class=\"dataframe\">\n",
       "  <thead>\n",
       "    <tr style=\"text-align: right;\">\n",
       "      <th></th>\n",
       "      <th>qid</th>\n",
       "      <th>question_text</th>\n",
       "      <th>target</th>\n",
       "    </tr>\n",
       "  </thead>\n",
       "  <tbody>\n",
       "    <tr>\n",
       "      <th>0</th>\n",
       "      <td>00002165364db923c7e6</td>\n",
       "      <td>How did Quebec nationalists see their province...</td>\n",
       "      <td>0</td>\n",
       "    </tr>\n",
       "    <tr>\n",
       "      <th>1</th>\n",
       "      <td>000032939017120e6e44</td>\n",
       "      <td>Do you have an adopted dog, how would you enco...</td>\n",
       "      <td>0</td>\n",
       "    </tr>\n",
       "    <tr>\n",
       "      <th>2</th>\n",
       "      <td>0000412ca6e4628ce2cf</td>\n",
       "      <td>Why does velocity affect time? Does velocity a...</td>\n",
       "      <td>0</td>\n",
       "    </tr>\n",
       "    <tr>\n",
       "      <th>3</th>\n",
       "      <td>000042bf85aa498cd78e</td>\n",
       "      <td>How did Otto von Guericke used the Magdeburg h...</td>\n",
       "      <td>0</td>\n",
       "    </tr>\n",
       "    <tr>\n",
       "      <th>4</th>\n",
       "      <td>0000455dfa3e01eae3af</td>\n",
       "      <td>Can I convert montra helicon D to a mountain b...</td>\n",
       "      <td>0</td>\n",
       "    </tr>\n",
       "  </tbody>\n",
       "</table>\n",
       "</div>"
      ],
      "text/plain": [
       "                    qid                                      question_text  \\\n",
       "0  00002165364db923c7e6  How did Quebec nationalists see their province...   \n",
       "1  000032939017120e6e44  Do you have an adopted dog, how would you enco...   \n",
       "2  0000412ca6e4628ce2cf  Why does velocity affect time? Does velocity a...   \n",
       "3  000042bf85aa498cd78e  How did Otto von Guericke used the Magdeburg h...   \n",
       "4  0000455dfa3e01eae3af  Can I convert montra helicon D to a mountain b...   \n",
       "\n",
       "   target  \n",
       "0       0  \n",
       "1       0  \n",
       "2       0  \n",
       "3       0  \n",
       "4       0  "
      ]
     },
     "execution_count": 2,
     "metadata": {},
     "output_type": "execute_result"
    }
   ],
   "source": [
    "text.head()"
   ]
  },
  {
   "cell_type": "markdown",
   "metadata": {},
   "source": [
    "#### Cleaning the data"
   ]
  },
  {
   "cell_type": "code",
   "execution_count": 3,
   "metadata": {},
   "outputs": [
    {
     "name": "stdout",
     "output_type": "stream",
     "text": [
      "qid              object\n",
      "question_text    object\n",
      "target            int64\n",
      "dtype: object\n",
      "\n",
      "Number of nulls :0\n"
     ]
    }
   ],
   "source": [
    "def remove_characters(df,text1):\n",
    "    df[text1] = df[text1].str.replace(r\"http\\S+\", \"\")\n",
    "    df[text1] = df[text1].str.replace(r\"http\", \"\")\n",
    "    df[text1] = df[text1].str.replace(r\"@\\S+\", \"\")\n",
    "    df[text1] = df[text1].str.replace(r\"[^A-Za-z0-9(),!?@\\'\\`\\\"\\_\\n]\",\" \")\n",
    "    df[text1] = df[text1].str.replace(r\"@\", \"at\")\n",
    "    df[text1] = df[text1].str.lower()\n",
    "    return df\n",
    "\n",
    "text_n = remove_characters(text,\"question_text\")\n",
    "text_n.head()\n",
    "print(text.dtypes)\n",
    "print(\"\\nNumber of nulls :\" + str(text[\"target\"].isna().sum()))"
   ]
  },
  {
   "cell_type": "code",
   "execution_count": 4,
   "metadata": {},
   "outputs": [
    {
     "data": {
      "image/png": "[encoded data removed]",
      "text/plain": [
       "<matplotlib.figure.Figure at 0x7f16c98b7978>"
      ]
     },
     "metadata": {},
     "output_type": "display_data"
    }
   ],
   "source": [
    "import matplotlib.pyplot as plt\n",
    "import pandas as pd\n",
    "labels = text[\"target\"].value_counts().index\n",
    "fig1, ax1 = plt.subplots()\n",
    "ax1.pie(text[\"target\"].value_counts().values, labels=labels, autopct='%1.1f%%',\n",
    "        shadow=True, startangle=90)\n",
    "ax1.axis('equal')\n",
    "plt.show()"
   ]
  },
  {
   "cell_type": "markdown",
   "metadata": {},
   "source": [
    "The corpus is _imbalanced_. There are very few examples of insincere questions."
   ]
  },
  {
   "cell_type": "markdown",
   "metadata": {},
   "source": [
    "### Tokenizaton\n",
    "Converting sentences to list of separate words."
   ]
  },
  {
   "cell_type": "code",
   "execution_count": 5,
   "metadata": {},
   "outputs": [
    {
     "data": {
      "text/html": [
       "<div>\n",
       "<style scoped>\n",
       "    .dataframe tbody tr th:only-of-type {\n",
       "        vertical-align: middle;\n",
       "    }\n",
       "\n",
       "    .dataframe tbody tr th {\n",
       "        vertical-align: top;\n",
       "    }\n",
       "\n",
       "    .dataframe thead th {\n",
       "        text-align: right;\n",
       "    }\n",
       "</style>\n",
       "<table border=\"1\" class=\"dataframe\">\n",
       "  <thead>\n",
       "    <tr style=\"text-align: right;\">\n",
       "      <th></th>\n",
       "      <th>qid</th>\n",
       "      <th>question_text</th>\n",
       "      <th>target</th>\n",
       "      <th>tokens</th>\n",
       "    </tr>\n",
       "  </thead>\n",
       "  <tbody>\n",
       "    <tr>\n",
       "      <th>0</th>\n",
       "      <td>00002165364db923c7e6</td>\n",
       "      <td>how did quebec nationalists see their province...</td>\n",
       "      <td>0</td>\n",
       "      <td>[how, did, quebec, nationalists, see, their, p...</td>\n",
       "    </tr>\n",
       "    <tr>\n",
       "      <th>1</th>\n",
       "      <td>000032939017120e6e44</td>\n",
       "      <td>do you have an adopted dog, how would you enco...</td>\n",
       "      <td>0</td>\n",
       "      <td>[do, you, have, an, adopted, dog, how, would, ...</td>\n",
       "    </tr>\n",
       "    <tr>\n",
       "      <th>2</th>\n",
       "      <td>0000412ca6e4628ce2cf</td>\n",
       "      <td>why does velocity affect time? does velocity a...</td>\n",
       "      <td>0</td>\n",
       "      <td>[why, does, velocity, affect, time, does, velo...</td>\n",
       "    </tr>\n",
       "    <tr>\n",
       "      <th>3</th>\n",
       "      <td>000042bf85aa498cd78e</td>\n",
       "      <td>how did otto von guericke used the magdeburg h...</td>\n",
       "      <td>0</td>\n",
       "      <td>[how, did, otto, von, guericke, used, the, mag...</td>\n",
       "    </tr>\n",
       "    <tr>\n",
       "      <th>4</th>\n",
       "      <td>0000455dfa3e01eae3af</td>\n",
       "      <td>can i convert montra helicon d to a mountain b...</td>\n",
       "      <td>0</td>\n",
       "      <td>[can, i, convert, montra, helicon, d, to, a, m...</td>\n",
       "    </tr>\n",
       "  </tbody>\n",
       "</table>\n",
       "</div>"
      ],
      "text/plain": [
       "                    qid                                      question_text  \\\n",
       "0  00002165364db923c7e6  how did quebec nationalists see their province...   \n",
       "1  000032939017120e6e44  do you have an adopted dog, how would you enco...   \n",
       "2  0000412ca6e4628ce2cf  why does velocity affect time? does velocity a...   \n",
       "3  000042bf85aa498cd78e  how did otto von guericke used the magdeburg h...   \n",
       "4  0000455dfa3e01eae3af  can i convert montra helicon d to a mountain b...   \n",
       "\n",
       "   target                                             tokens  \n",
       "0       0  [how, did, quebec, nationalists, see, their, p...  \n",
       "1       0  [do, you, have, an, adopted, dog, how, would, ...  \n",
       "2       0  [why, does, velocity, affect, time, does, velo...  \n",
       "3       0  [how, did, otto, von, guericke, used, the, mag...  \n",
       "4       0  [can, i, convert, montra, helicon, d, to, a, m...  "
      ]
     },
     "execution_count": 5,
     "metadata": {},
     "output_type": "execute_result"
    }
   ],
   "source": [
    "from nltk.tokenize import RegexpTokenizer\n",
    "\n",
    "tokenizer = RegexpTokenizer(r'\\w+')\n",
    "\n",
    "text_n[\"tokens\"] = text_n[\"question_text\"].apply(tokenizer.tokenize)\n",
    "text_n.head()"
   ]
  },
  {
   "cell_type": "code",
   "execution_count": 6,
   "metadata": {},
   "outputs": [
    {
     "name": "stdout",
     "output_type": "stream",
     "text": [
      "Number of unique words47\n",
      "                    qid                                      question_text  \\\n",
      "0  00002165364db923c7e6  how did quebec nationalists see their province...   \n",
      "1  000032939017120e6e44  do you have an adopted dog, how would you enco...   \n",
      "2  0000412ca6e4628ce2cf  why does velocity affect time? does velocity a...   \n",
      "3  000042bf85aa498cd78e  how did otto von guericke used the magdeburg h...   \n",
      "4  0000455dfa3e01eae3af  can i convert montra helicon d to a mountain b...   \n",
      "\n",
      "   target                                             tokens  token_len  \n",
      "0       0  [how, did, quebec, nationalists, see, their, p...         72  \n",
      "1       0  [do, you, have, an, adopted, dog, how, would, ...         81  \n",
      "2       0  [why, does, velocity, affect, time, does, velo...         67  \n",
      "3       0  [how, did, otto, von, guericke, used, the, mag...         57  \n",
      "4       0  [can, i, convert, montra, helicon, d, to, a, m...         77  \n"
     ]
    }
   ],
   "source": [
    "#repeated\n",
    "all_words = [w for i in text_n[\"question_text\"] for w in i ]\n",
    "unique_words = set(all_words)\n",
    "print(\"Number of unique words\"+str(len(unique_words)))\n",
    "\n",
    "sentence_len = [len(i) for i in text_n[\"question_text\"]]\n",
    "text_n[\"token_len\"] = sentence_len\n",
    "print(text_n.head())"
   ]
  },
  {
   "cell_type": "code",
   "execution_count": 7,
   "metadata": {},
   "outputs": [
    {
     "data": {
      "image/png": "[encoded data removed]",
      "text/plain": [
       "<matplotlib.figure.Figure at 0x7f167eea5160>"
      ]
     },
     "metadata": {},
     "output_type": "display_data"
    },
    {
     "name": "stderr",
     "output_type": "stream",
     "text": [
      "/home/ec2-user/anaconda3/lib/python3.6/site-packages/matplotlib/font_manager.py:1297: UserWarning: findfont: Font family ['sans-serif'] not found. Falling back to DejaVu Sans\n",
      "  (prop.get_family(), self.defaultFamily[fontext]))\n"
     ]
    },
    {
     "data": {
      "image/png": "[encoded data removed]",
      "text/plain": [
       "<matplotlib.figure.Figure at 0x7f167ed24b70>"
      ]
     },
     "metadata": {},
     "output_type": "display_data"
    }
   ],
   "source": [
    "import matplotlib.pyplot as plt\n",
    "import numpy as np\n",
    "\n",
    "plt.figure(figsize=(10,5))\n",
    "plt.hist(sentence_len,bins= 50)\n",
    "plt.xlim(min(sentence_len),max(sentence_len))\n",
    "plt.xlabel('length of sentence')\n",
    "plt.ylabel('frequency')\n",
    "plt.show()\n",
    "\n",
    "import seaborn as sns\n",
    "g = sns.FacetGrid(text_n,col = \"target\")\n",
    "g = g.map(plt.hist,\"token_len\")\n",
    "plt.show()"
   ]
  },
  {
   "cell_type": "markdown",
   "metadata": {},
   "source": [
    "## Embedding\n",
    "* Bag of Words Count \n",
    "Associates an index to each word in our vocabulary, and embeds each sentence as a list of 0s, with a 1 at each index corresponding to a word present in the sentence."
   ]
  },
  {
   "cell_type": "code",
   "execution_count": 8,
   "metadata": {
    "collapsed": true
   },
   "outputs": [],
   "source": [
    "from sklearn.model_selection import train_test_split\n",
    "from sklearn.feature_extraction.text import CountVectorizer, TfidfVectorizer\n",
    "\n",
    "def CV(data):\n",
    "    count_vectorizer = CountVectorizer()\n",
    "    emb =  count_vectorizer.fit_transform(data)\n",
    "    return emb,count_vectorizer\n",
    "\n",
    "list_corpus = text_n[\"question_text\"].tolist()\n",
    "list_labels = text_n[\"target\"].tolist()"
   ]
  },
  {
   "cell_type": "markdown",
   "metadata": {},
   "source": [
    "### Splitting into Train and Test set"
   ]
  },
  {
   "cell_type": "code",
   "execution_count": 9,
   "metadata": {},
   "outputs": [
    {
     "name": "stdout",
     "output_type": "stream",
     "text": [
      "% Minority class in test set: 6.19\n",
      "% Minority class in train set: 6.19\n"
     ]
    }
   ],
   "source": [
    "X_train,X_test,y_train,y_test = train_test_split(list_corpus,list_labels,test_size =0.05,stratify=list_labels)\n",
    "print(\"% Minority class in test set: \"+ str(round((100*y_test.count(1)/len(y_test)),2)))\n",
    "print(\"% Minority class in train set: \"+ str(round((100*y_train.count(1)/len(y_train)),2)))\n",
    "\n",
    "X_train_counts, count_vectorizer = CV(X_train)\n",
    "X_test_counts = count_vectorizer.transform(X_test)"
   ]
  },
  {
   "cell_type": "markdown",
   "metadata": {},
   "source": [
    "### Imbalanced data \n",
    "Using SMOTE to oversample in training set"
   ]
  },
  {
   "cell_type": "markdown",
   "metadata": {},
   "source": [
    "* X_train_counts is a scipy.sparse.csr.csr_matrix and PCA cannot be applied to csr_matrix.\n",
    "Hence use TruncatedSVD to reduce dimensions of X_train_counts"
   ]
  },
  {
   "cell_type": "code",
   "execution_count": null,
   "metadata": {
    "collapsed": true
   },
   "outputs": [],
   "source": [
    "print(X_train_counts.shape)\n",
    "#PCA\n",
    "#from sklearn.decomposition import TruncatedSVD\n",
    "#svd = TruncatedSVD(n_components=5, n_iter=7, random_state=42)\n",
    "#svd.fit(X_train_counts)  \n",
    "#print(svd.explained_variance_ratio_) \n",
    "from imblearn.over_sampling import SMOTE\n",
    "sm = SMOTE()\n",
    "X_train_res, y_train_res = sm.fit_sample(X_train_counts,y_train)\n",
    "print(\"Before oversampling, counts of label '1' : \" + str(y_train.count(1)))\n",
    "print(\"Before oversampling, counts of label '0' : \" + str(len(y_train)-y_train.count(1)))\n",
    "print(\"After oversampling, counts of label '1' : \"+ str(y_train_res.sum()))\n",
    "print(\"After oversampling, counts of label '0' : \" + str(y_train_res.shape[0] - y_train_res.sum()))"
   ]
  },
  {
   "cell_type": "markdown",
   "metadata": {},
   "source": [
    "### Model training - Logistic Regression"
   ]
  },
  {
   "cell_type": "code",
   "execution_count": null,
   "metadata": {},
   "outputs": [],
   "source": [
    "from sklearn.linear_model import LogisticRegression\n",
    "model_tfidf = LogisticRegression(class_weight='balanced', solver='saga', multi_class='ovr', random_state=40)\n",
    "model_tfidf.fit(X_train_res, y_train_res)\n",
    "\n",
    "y_predicted_tfidf = model_tfidf.predict(X_test_tfidf)"
   ]
  },
  {
   "cell_type": "markdown",
   "metadata": {},
   "source": [
    "### Evalutation - Logistic Regression (embedding - bag of words)  "
   ]
  },
  {
   "cell_type": "code",
   "execution_count": null,
   "metadata": {},
   "outputs": [],
   "source": [
    "from sklearn.metrics import accuracy_score, f1_score, precision_score, recall_score, classification_report \n",
    "    # true positives / (true positives+false positives)\n",
    "precision = precision_score(y_test, y_predicted_tfidf, pos_label=None,average='weighted')             \n",
    "    # true positives / (true positives + false negatives)\n",
    "recall = recall_score(y_test, y_predicted_tfidf, pos_label=None,average='weighted')\n",
    "    # harmonic mean of precision and recall\n",
    "f1 = f1_score(y_test, y_predicted_tfidf, pos_label=None, average='weighted')\n",
    "    # true positives + true negatives/ total\n",
    "accuracy = accuracy_score(y_test, y_predicted_tfidf)\n",
    "print(\"accuracy = %.3f, precision = %.3f, recall = %.3f, f1 = %.3f\" % (accuracy, precision, recall, f1) )"
   ]
  },
  {
   "cell_type": "code",
   "execution_count": null,
   "metadata": {},
   "outputs": [],
   "source": [
    "import numpy as np\n",
    "import itertools\n",
    "from sklearn.metrics import confusion_matrix\n",
    "\n",
    "#code from scikit-learn\n",
    "def plot_confusion_matrix(cm, classes,\n",
    "                          normalize=False,\n",
    "                          title='Confusion matrix',\n",
    "                          cmap=plt.cm.Reds):\n",
    "    if normalize:\n",
    "        cm = cm.astype('float') / cm.sum(axis=1)[:, np.newaxis]\n",
    "    plt.imshow(cm, interpolation='nearest', cmap=cmap)\n",
    "    plt.title(title, fontsize=30)\n",
    "    plt.colorbar()\n",
    "    tick_marks = np.arange(len(classes))\n",
    "    plt.xticks(tick_marks, classes, fontsize=20)\n",
    "    plt.yticks(tick_marks, classes, fontsize=20)\n",
    "    \n",
    "    fmt = '.2f' if normalize else 'd'\n",
    "    thresh = cm.max() / 2.\n",
    "\n",
    "    for i, j in itertools.product(range(cm.shape[0]), range(cm.shape[1])):\n",
    "        plt.text(j, i, format(cm[i, j], fmt), horizontalalignment=\"center\", \n",
    "                 color=\"white\" if cm[i, j] < thresh else \"black\", fontsize=40)\n",
    "    \n",
    "    plt.tight_layout()\n",
    "    plt.ylabel('True label', fontsize=30)\n",
    "    plt.xlabel('Predicted label', fontsize=30)\n",
    "\n",
    "    return plt"
   ]
  },
  {
   "cell_type": "code",
   "execution_count": null,
   "metadata": {},
   "outputs": [],
   "source": [
    "cm = confusion_matrix(y_test, y_predicted_counts)\n",
    "fig = plt.figure(figsize=(10, 10))\n",
    "plot = plot_confusion_matrix(cm, classes=['Insincere','Okay'], normalize=False, title='Confusion matrix')\n",
    "plt.show()\n",
    "print(cm)"
   ]
  },
  {
   "cell_type": "code",
   "execution_count": null,
   "metadata": {},
   "outputs": [],
   "source": []
  },
  {
   "cell_type": "markdown",
   "metadata": {},
   "source": [
    "### Word Embedding\n",
    "Vectorization of words using the TF IDF "
   ]
  },
  {
   "cell_type": "code",
   "execution_count": null,
   "metadata": {},
   "outputs": [],
   "source": [
    "from sklearn.decomposition import PCA, TruncatedSVD\n",
    "import matplotlib\n",
    "import matplotlib.patches as mpatches\n",
    "\n",
    "\n",
    "def plot_LSA(test_data, test_labels, savepath=\"PCA_demo.csv\", plot=True):\n",
    "        lsa = TruncatedSVD(n_components=2)\n",
    "        lsa.fit(test_data)\n",
    "        lsa_scores = lsa.transform(test_data)\n",
    "        color_mapper = {label:idx for idx,label in enumerate(set(test_labels))}\n",
    "        color_column = [color_mapper[label] for label in test_labels]\n",
    "        colors = ['orange','blue','blue']\n",
    "        if plot:\n",
    "            plt.scatter(lsa_scores[:,0], lsa_scores[:,1], s=8, alpha=.8, c=test_labels, cmap=matplotlib.colors.ListedColormap(colors))\n",
    "            red_patch = mpatches.Patch(color='orange', label='Irrelevant')\n",
    "            green_patch = mpatches.Patch(color='blue', label='Disaster')\n",
    "            plt.legend(handles=[red_patch, green_patch], prop={'size': 30})\n",
    "\n",
    "\n",
    "def tfidf(data):\n",
    "    tfidf_vectorizer = TfidfVectorizer()\n",
    "\n",
    "    train = tfidf_vectorizer.fit_transform(data)\n",
    "\n",
    "    return train, tfidf_vectorizer\n",
    "\n",
    "X_train_tfidf, tfidf_vectorizer = tfidf(X_train)\n",
    "X_test_tfidf = tfidf_vectorizer.transform(X_test)\n",
    "print(X_train_tfidf.shape)\n"
   ]
  },
  {
   "cell_type": "markdown",
   "metadata": {},
   "source": [
    "### Imbalanced data \n",
    "Using SMOTE to oversample in training set"
   ]
  },
  {
   "cell_type": "code",
   "execution_count": null,
   "metadata": {},
   "outputs": [],
   "source": [
    "from imblearn.over_sampling import SMOTE\n",
    "sm = SMOTE()\n",
    "#rows = [a for a in range(0,10000)]\n",
    "X_train_res, y_train_res = sm.fit_sample(X_train_tfidf,y_train)"
   ]
  },
  {
   "cell_type": "code",
   "execution_count": null,
   "metadata": {},
   "outputs": [],
   "source": [
    "print(\"Before oversampling, counts of label '1' : \" + str(y_train.count(1)))\n",
    "print(\"Before oversampling, counts of label '0' : \" + str(len(y_train)-y_train.count(1)))\n",
    "print(\"After oversampling, counts of label '1' : \"+ str(y_train_res.sum()))\n",
    "print(\"After oversampling, counts of label '0' : \" + str(y_train_res.shape[0] - y_train_res.sum()))"
   ]
  },
  {
   "cell_type": "markdown",
   "metadata": {},
   "source": [
    "### Model training - Logistic Regression"
   ]
  },
  {
   "cell_type": "code",
   "execution_count": null,
   "metadata": {},
   "outputs": [],
   "source": [
    "from sklearn.linear_model import LogisticRegression\n",
    "model_tfidf = LogisticRegression(class_weight='balanced', solver='saga', multi_class='ovr', random_state=40)\n",
    "model_tfidf.fit(X_train_res, y_train_res)\n",
    "\n",
    "y_predicted_tfidf = model_tfidf.predict(X_test_tfidf)"
   ]
  },
  {
   "cell_type": "markdown",
   "metadata": {},
   "source": [
    "### Evaluation of Model - Logistic Regression (embedding - TFIDF)"
   ]
  },
  {
   "cell_type": "code",
   "execution_count": null,
   "metadata": {},
   "outputs": [],
   "source": [
    "from sklearn.metrics import accuracy_score, f1_score, precision_score, recall_score, classification_report \n",
    "    # true positives / (true positives+false positives)\n",
    "precision = precision_score(y_test, y_predicted_tfidf, pos_label=None,average='weighted')             \n",
    "    # true positives / (true positives + false negatives)\n",
    "recall = recall_score(y_test, y_predicted_tfidf, pos_label=None,average='weighted')\n",
    "    # harmonic mean of precision and recall\n",
    "f1 = f1_score(y_test, y_predicted_tfidf, pos_label=None, average='weighted')\n",
    "    # true positives + true negatives/ total\n",
    "accuracy = accuracy_score(y_test, y_predicted_tfidf)\n",
    "print(\"accuracy = %.3f, precision = %.3f, recall = %.3f, f1 = %.3f\" % (accuracy, precision, recall, f1) )"
   ]
  },
  {
   "cell_type": "code",
   "execution_count": null,
   "metadata": {},
   "outputs": [],
   "source": [
    "cm2 = confusion_matrix(y_test, y_predicted_tfidf)\n",
    "fig = plt.figure(figsize=(5, 5))\n",
    "plot = plot_confusion_matrix(cm2, classes=['Okay','Insincere'], normalize=False, title='Confusion matrix')\n",
    "plt.show()\n",
    "print(\"TFIDF confusion matrix\")\n",
    "print(cm2)"
   ]
  },
  {
   "cell_type": "markdown",
   "metadata": {},
   "source": [
    "### Word2Vec"
   ]
  },
  {
   "cell_type": "code",
   "execution_count": 18,
   "metadata": {},
   "outputs": [
    {
     "name": "stdout",
     "output_type": "stream",
     "text": [
      "<class 'scipy.sparse.csr.csr_matrix'>\n"
     ]
    }
   ],
   "source": [
    "print(type(X_train_counts))"
   ]
  },
  {
   "cell_type": "code",
   "execution_count": 22,
   "metadata": {},
   "outputs": [
    {
     "name": "stdout",
     "output_type": "stream",
     "text": [
      "(1240815, 187300)\n"
     ]
    }
   ],
   "source": [
    "print(X_train_counts.shape)"
   ]
  },
  {
   "cell_type": "markdown",
   "metadata": {},
   "source": [
    "## CNN"
   ]
  },
  {
   "cell_type": "code",
   "execution_count": null,
   "metadata": {
    "collapsed": true
   },
   "outputs": [],
   "source": [
    "from keras.preprocessing.text import Tokenizer\n",
    "from keras.preprocessing.sequence import pad_sequences\n",
    "from keras.utils import to_categorical\n",
    "\n",
    "tokenizer =Tokenizer(num_words=len(unique_words))\n",
    "tokenizer.fit_on_texts(text_n[\"question_text\"].tolist())\n",
    "sequences = tokenizer.texts_to_sequences(text_n[\"question_text\"].tolist())\n",
    "for i in range(0,3):\n",
    "    print(sequences[i])\n",
    "    print(text_n.iloc[i,1])\n",
    "word_index = tokenizer.word_index\n",
    "\n",
    "print(\"found %s unique tokens\" % len(word_index))"
   ]
  },
  {
   "cell_type": "code",
   "execution_count": null,
   "metadata": {},
   "outputs": [],
   "source": [
    "cnn_data = pad_sequences(sequences,maxlen= 35)\n",
    "labels =  to_categorical(np.array(clean_questions[\"target\"]))\n",
    "\n",
    "indices = np.arrange(cnn_data.shape[0])\n",
    "np.random.shuffle(indices)\n",
    "cnn_data = cnn_data[indices]\n",
    "labels = labels[indices]\n",
    "num_validation_samples = int(0.2*cnn_data.shape[0])"
   ]
  },
  {
   "cell_type": "code",
   "execution_count": null,
   "metadata": {},
   "outputs": [],
   "source": [
    "print(len(word_index))\n",
    "print(len(unique_words))"
   ]
  },
  {
   "cell_type": "markdown",
   "metadata": {},
   "source": [
    "## Building a CNN"
   ]
  },
  {
   "cell_type": "code",
   "execution_count": null,
   "metadata": {},
   "outputs": [],
   "source": [
    "from keras.layers import Dense,Input,Flatten,Dropout,Merge\n",
    "from keras.layers import Conv1D,MaxPooling1D,Embedding\n",
    "from keras.layers import LSTM,bidirectional\n",
    "from keras.models import Model\n",
    "\n",
    "def ConvNet()"
   ]
  }
 ],
 "metadata": {
  "kernelspec": {
   "display_name": "Python 3",
   "language": "python",
   "name": "python3"
  },
  "language_info": {
   "codemirror_mode": {
    "name": "ipython",
    "version": 3
   },
   "file_extension": ".py",
   "mimetype": "text/x-python",
   "name": "python",
   "nbconvert_exporter": "python",
   "pygments_lexer": "ipython3",
   "version": "3.6.7"
  }
 },
 "nbformat": 4,
 "nbformat_minor": 2
}
